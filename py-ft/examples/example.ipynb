{
 "cells": [
  {
   "cell_type": "code",
   "execution_count": 1,
   "metadata": {},
   "outputs": [],
   "source": [
    "import pyft"
   ]
  },
  {
   "cell_type": "code",
   "execution_count": 4,
   "metadata": {},
   "outputs": [
    {
     "name": "stdout",
     "output_type": "stream",
     "text": [
      "    chrom     start       end strand  n_spanning_fibers  n_spanning_msps  \\\n",
      "0   chr11   5204946   5204980      +                181               92   \n",
      "0   chr11   5204946   5204980      +                181               92   \n",
      "0   chr11   5204946   5204980      +                181               92   \n",
      "0   chr11   5204946   5204980      +                181               92   \n",
      "0   chr11   5204946   5204980      +                181               92   \n",
      "..    ...       ...       ...    ...                ...              ...   \n",
      "16  chr19  45817350  45817384      +                136              124   \n",
      "16  chr19  45817350  45817384      +                136              124   \n",
      "16  chr19  45817350  45817384      +                136              124   \n",
      "16  chr19  45817350  45817384      +                136              124   \n",
      "16  chr19  45817350  45817384      +                136              124   \n",
      "\n",
      "    n_overlapping_nucs  module:0-8  module:8-16  module:16-23  module:23-29  \\\n",
      "0                   85       False        False         False         False   \n",
      "0                   85       False        False         False         False   \n",
      "0                   85       False        False          True          True   \n",
      "0                   85       False        False         False         False   \n",
      "0                   85       False        False         False         False   \n",
      "..                 ...         ...          ...           ...           ...   \n",
      "16                   8       False         True          True          True   \n",
      "16                   8       False         True          True          True   \n",
      "16                   8       False        False         False          True   \n",
      "16                   8        True        False          True          True   \n",
      "16                   8       False        False         False         False   \n",
      "\n",
      "    module:29-35  fire_qual                          fiber_name  n_modules  \\\n",
      "0          False        247  m64076_211222_124721/148505307/ccs          5   \n",
      "0          False         -1   m64076_211222_124721/51053256/ccs          5   \n",
      "0           True        246   m64076_211222_124721/62391018/ccs          5   \n",
      "0          False         -1   m64076_211222_124721/97191992/ccs          5   \n",
      "0          False         -1   m64076_211222_124721/99419016/ccs          5   \n",
      "..           ...        ...                                 ...        ...   \n",
      "16          True          0  m64076_211222_124721/157222001/ccs          5   \n",
      "16          True        246   m64076_211222_124721/65339699/ccs          5   \n",
      "16         False          0    m64076_211222_124721/6882497/ccs          5   \n",
      "16          True        243   m64076_211222_124721/31394454/ccs          5   \n",
      "16         False         -1  m64076_211222_124721/100926481/ccs          5   \n",
      "\n",
      "    has_spanning_msp  \n",
      "0               True  \n",
      "0              False  \n",
      "0               True  \n",
      "0              False  \n",
      "0              False  \n",
      "..               ...  \n",
      "16              True  \n",
      "16              True  \n",
      "16              True  \n",
      "16              True  \n",
      "16             False  \n",
      "\n",
      "[2065 rows x 16 columns]\n"
     ]
    }
   ],
   "source": [
    "# example of reading in a footprinting table\n",
    "df = pyft.read_footprint_table(\"../../tests/data/ctcf-footprints.bed.gz\", long=True)\n",
    "print(df)"
   ]
  }
 ],
 "metadata": {
  "kernelspec": {
   "display_name": "Python 3",
   "language": "python",
   "name": "python3"
  },
  "language_info": {
   "codemirror_mode": {
    "name": "ipython",
    "version": 3
   },
   "file_extension": ".py",
   "mimetype": "text/x-python",
   "name": "python",
   "nbconvert_exporter": "python",
   "pygments_lexer": "ipython3",
   "version": "3.11.6"
  }
 },
 "nbformat": 4,
 "nbformat_minor": 2
}
